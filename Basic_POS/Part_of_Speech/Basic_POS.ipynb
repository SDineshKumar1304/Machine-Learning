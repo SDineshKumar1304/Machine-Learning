{
  "nbformat": 4,
  "nbformat_minor": 0,
  "metadata": {
    "colab": {
      "provenance": []
    },
    "kernelspec": {
      "name": "python3",
      "display_name": "Python 3"
    },
    "language_info": {
      "name": "python"
    }
  },
  "cells": [
    {
      "cell_type": "code",
      "execution_count": 3,
      "metadata": {
        "id": "VpRZEtfuY-nh"
      },
      "outputs": [],
      "source": [
        "import nltk\n",
        "from nltk.tag import DefaultTagger\n",
        "from nltk.tokenize import word_tokenize"
      ]
    },
    {
      "cell_type": "code",
      "source": [
        "nltk.download('punkt')"
      ],
      "metadata": {
        "colab": {
          "base_uri": "https://localhost:8080/"
        },
        "id": "fx9gMCbcZcuy",
        "outputId": "ad26d8fb-41ba-4202-b185-3bb69932e225"
      },
      "execution_count": 4,
      "outputs": [
        {
          "output_type": "stream",
          "name": "stderr",
          "text": [
            "[nltk_data] Downloading package punkt to /root/nltk_data...\n",
            "[nltk_data]   Package punkt is already up-to-date!\n"
          ]
        },
        {
          "output_type": "execute_result",
          "data": {
            "text/plain": [
              "True"
            ]
          },
          "metadata": {},
          "execution_count": 4
        }
      ]
    },
    {
      "cell_type": "code",
      "source": [
        "nltk.download('')"
      ],
      "metadata": {
        "colab": {
          "base_uri": "https://localhost:8080/"
        },
        "id": "3Agffb5MZjg-",
        "outputId": "a5fef719-2a20-4d85-b7c7-45c55b628c05"
      },
      "execution_count": 5,
      "outputs": [
        {
          "output_type": "stream",
          "name": "stderr",
          "text": [
            "[nltk_data] Error loading : Package '' not found in index\n"
          ]
        },
        {
          "output_type": "execute_result",
          "data": {
            "text/plain": [
              "False"
            ]
          },
          "metadata": {},
          "execution_count": 5
        }
      ]
    },
    {
      "cell_type": "code",
      "source": [
        "from nltk.tag import UnigramTagger\n",
        "from nltk.tag import DefaultTagger"
      ],
      "metadata": {
        "id": "C9VfdiPFZsrV"
      },
      "execution_count": 6,
      "outputs": []
    },
    {
      "cell_type": "code",
      "source": [
        "# Your labeled data\n",
        "labeled_data = [\n",
        "    [(\"I\", \"PRP\")],\n",
        "    [(\"love\", \"VBP\")],\n",
        "    [(\"natural\", \"JJ\")],\n",
        "    [(\"language\", \"NN\")],\n",
        "    [(\"processing\", \"NN\")],\n",
        "    [(\".\", \".\")]\n",
        "]"
      ],
      "metadata": {
        "id": "1r_qLTzkacu1"
      },
      "execution_count": 7,
      "outputs": []
    },
    {
      "cell_type": "markdown",
      "source": [
        "# Extracting features and labels"
      ],
      "metadata": {
        "id": "8HNrxHyQD5nQ"
      }
    },
    {
      "cell_type": "code",
      "source": [
        "features = [word for sentence in labeled_data for word, tag in sentence]\n",
        "labels = [tag for sentence in labeled_data for word, tag in sentence]"
      ],
      "metadata": {
        "id": "AqgBqjkZbJVy"
      },
      "execution_count": 15,
      "outputs": []
    },
    {
      "cell_type": "markdown",
      "source": [
        "# Defining the default tagger as NN because we have small amount of data"
      ],
      "metadata": {
        "id": "TKw4u7HZEG_M"
      }
    },
    {
      "cell_type": "code",
      "source": [
        "default_tagger = DefaultTagger('NN')"
      ],
      "metadata": {
        "id": "j8U_ZGqPbLyy"
      },
      "execution_count": 16,
      "outputs": []
    },
    {
      "cell_type": "markdown",
      "source": [
        "# Training a UnigramTagger using the labeled data"
      ],
      "metadata": {
        "id": "j6NuCl3vEUCL"
      }
    },
    {
      "cell_type": "code",
      "source": [
        "tagger = UnigramTagger(train=labeled_data, backoff=default_tagger)"
      ],
      "metadata": {
        "id": "FgRNezW-bN1w"
      },
      "execution_count": 17,
      "outputs": []
    },
    {
      "cell_type": "markdown",
      "source": [
        "# Evaluating with  new Sentence"
      ],
      "metadata": {
        "id": "xx646M6QEXQe"
      }
    },
    {
      "cell_type": "code",
      "source": [
        "new_sentence = [\"I\", \"enjoy\", \"working\", \"with\", \"natural\", \"language\", \"models\", \".\"]\n",
        "predicted_tags = tagger.tag(new_sentence)"
      ],
      "metadata": {
        "id": "UkPsnEFRbPqp"
      },
      "execution_count": 18,
      "outputs": []
    },
    {
      "cell_type": "markdown",
      "source": [
        "# predicitions"
      ],
      "metadata": {
        "id": "uoaae6g5Ed6z"
      }
    },
    {
      "cell_type": "code",
      "source": [
        "print(predicted_tags)"
      ],
      "metadata": {
        "colab": {
          "base_uri": "https://localhost:8080/"
        },
        "id": "bsPTgF0ubR89",
        "outputId": "57485da1-a1a3-4fc9-fcee-aa951dc91c03"
      },
      "execution_count": 19,
      "outputs": [
        {
          "output_type": "stream",
          "name": "stdout",
          "text": [
            "[('I', 'PRP'), ('enjoy', 'NN'), ('working', 'NN'), ('with', 'NN'), ('natural', 'JJ'), ('language', 'NN'), ('models', 'NN'), ('.', '.')]\n"
          ]
        }
      ]
    },
    {
      "cell_type": "markdown",
      "source": [
        "# let us apply more Trainning data manually"
      ],
      "metadata": {
        "id": "oDZRDkP6EiN2"
      }
    },
    {
      "cell_type": "code",
      "source": [
        "training_data = [\n",
        "    [(\"The\", \"DT\"), (\"quick\", \"JJ\"), (\"brown\", \"JJ\"), (\"fox\", \"NN\"), (\"jumps\", \"VBZ\"), (\"over\", \"IN\"), (\"the\", \"DT\"), (\"lazy\", \"JJ\"), (\"dog\", \"NN\"), (\".\", \".\")],\n",
        "    [(\"A\", \"DT\"), (\"beautiful\", \"JJ\"), (\"flower\", \"NN\"), (\"blooms\", \"VBZ\"), (\"in\", \"IN\"), (\"the\", \"DT\"), (\"garden\", \"NN\"), (\".\", \".\")],\n",
        "    [(\"People\", \"NNS\"), (\"enjoy\", \"VBP\"), (\"listening\", \"VBG\"), (\"to\", \"TO\"), (\"music\", \"NN\"), (\"on\", \"IN\"), (\"sunny\", \"JJ\"), (\"days\", \"NNS\"), (\".\", \".\")],\n",
        "    [(\"The\", \"DT\"), (\"scientist\", \"NN\"), (\"conducted\", \"VBD\"), (\"experiments\", \"NNS\"), (\"in\", \"IN\"), (\"the\", \"DT\"), (\"laboratory\", \"NN\"), (\".\", \".\")],\n",
        "    [(\"Children\", \"NNS\"), (\"play\", \"VBP\"), (\"happily\", \"RB\"), (\"in\", \"IN\"), (\"the\", \"DT\"), (\"playground\", \"NN\"), (\".\", \".\")],\n",
        "    [(\"She\", \"PRP\"), (\"traveled\", \"VBD\"), (\"to\", \"TO\"), (\"exotic\", \"JJ\"), (\"places\", \"NNS\"), (\"and\", \"CC\"), (\"discovered\", \"VBD\"), (\"new\", \"JJ\"), (\"cultures\", \"NNS\"), (\".\", \".\")],\n",
        "    [(\"The\", \"DT\"), (\"mysterious\", \"JJ\"), (\"stranger\", \"NN\"), (\"arrived\", \"VBD\"), (\"in\", \"IN\"), (\"town\", \"NN\"), (\"last\", \"JJ\"), (\"night\", \"NN\"), (\".\", \".\")],\n",
        "    [(\"We\", \"PRP\"), (\"celebrated\", \"VBD\"), (\"our\", \"PRP$\"), (\"friend's\", \"NN\"), (\"birthday\", \"NN\"), (\"with\", \"IN\"), (\"a\", \"DT\"), (\"surprise\", \"NN\"), (\"party\", \"NN\"), (\".\", \".\")],\n",
        "    [(\"The\", \"DT\"), (\"ancient\", \"JJ\"), (\"book\", \"NN\"), (\"contained\", \"VBD\"), (\"secrets\", \"NNS\"), (\"of\", \"IN\"), (\"forgotten\", \"VBN\"), (\"civilizations\", \"NNS\"), (\".\", \".\")],\n",
        "    [(\"A\", \"DT\"), (\"flock\", \"NN\"), (\"of\", \"IN\"), (\"colorful\", \"JJ\"), (\"birds\", \"NNS\"), (\"flew\", \"VBD\"), (\"across\", \"IN\"), (\"the\", \"DT\"), (\"sunset\", \"NN\"), (\".\", \".\")],\n",
        "    [(\"The\", \"DT\"), (\"sun\", \"NN\"), (\"sets\", \"VBZ\"), (\"behind\", \"IN\"), (\"the\", \"DT\"), (\"mountains\", \"NNS\"), (\".\", \".\")],\n",
        "    [(\"Delicious\", \"JJ\"), (\"aromas\", \"NNS\"), (\"filled\", \"VBD\"), (\"the\", \"DT\"), (\"kitchen\", \"NN\"), (\"during\", \"IN\"), (\"cooking\", \"NN\"), (\".\", \".\")],\n",
        "    [(\"The\", \"DT\"), (\"athletes\", \"NNS\"), (\"competed\", \"VBD\"), (\"fiercely\", \"RB\"), (\"in\", \"IN\"), (\"the\", \"DT\"), (\"championship\", \"NN\"), (\".\", \".\")],\n",
        "    [(\"Colorful\", \"JJ\"), (\"flowers\", \"NNS\"), (\"blossomed\", \"VBD\"), (\"in\", \"IN\"), (\"the\", \"DT\"), (\"spring\", \"NN\"), (\"gardens\", \"NNS\"), (\".\", \".\")],\n",
        "    [(\"Her\", \"PRP$\"), (\"adventures\", \"NNS\"), (\"took\", \"VBD\"), (\"her\", \"PRP\"), (\"to\", \"TO\"), (\"faraway\", \"JJ\"), (\"lands\", \"NNS\"), (\".\", \".\")],\n",
        "    [(\"The\", \"DT\"), (\"ocean\", \"NN\"), (\"waves\", \"NNS\"), (\"crashed\", \"VBD\"), (\"against\", \"IN\"), (\"the\", \"DT\"), (\"rocky\", \"JJ\"), (\"shore\", \"NN\"), (\".\", \".\")],\n",
        "    [(\"An\", \"DT\"), (\"ancient\", \"JJ\"), (\"tree\", \"NN\"), (\"stood\", \"VBD\"), (\"majestically\", \"RB\"), (\"in\", \"IN\"), (\"the\", \"DT\"), (\"middle\", \"NN\"), (\"of\", \"IN\"), (\"the\", \"DT\"), (\"forest\", \"NN\"), (\".\", \".\")],\n",
        "    [(\"Children\", \"NNS\"), (\"laughed\", \"VBD\"), (\"and\", \"CC\"), (\"played\", \"VBD\"), (\"in\", \"IN\"), (\"the\", \"DT\"), (\"playground\", \"NN\"), (\"after\", \"IN\"), (\"school\", \"NN\"), (\".\", \".\")],\n",
        "    [(\"The\", \"DT\"), (\"magical\", \"JJ\"), (\"fountain\", \"NN\"), (\"sprayed\", \"VBD\"), (\"dazzling\", \"JJ\"), (\"water\", \"NN\"), (\"into\", \"IN\"), (\"the\", \"DT\"), (\"air\", \"NN\"), (\".\", \".\")],\n",
        "    [(\"A\", \"DT\"), (\"gentle\", \"JJ\"), (\"breeze\", \"NN\"), (\"whispered\", \"VBD\"), (\"through\", \"IN\"), (\"the\", \"DT\"), (\"fields\", \"NNS\"), (\"of\", \"IN\"), (\"wildflowers\", \"NNS\"), (\".\", \".\")],\n",
        "]\n"
      ],
      "metadata": {
        "id": "3IwGy6vLboFo"
      },
      "execution_count": 20,
      "outputs": []
    },
    {
      "cell_type": "markdown",
      "source": [
        "# Repeating the same Trainning Process"
      ],
      "metadata": {
        "id": "PFso3EpjFF16"
      }
    },
    {
      "cell_type": "code",
      "source": [
        "default_tagger = DefaultTagger('NN')"
      ],
      "metadata": {
        "id": "PUCTP2HEEtOE"
      },
      "execution_count": 21,
      "outputs": []
    },
    {
      "cell_type": "code",
      "source": [
        "tagger = UnigramTagger(train=training_data, backoff=default_tagger)"
      ],
      "metadata": {
        "id": "QSC25sk6FLd0"
      },
      "execution_count": 22,
      "outputs": []
    },
    {
      "cell_type": "code",
      "source": [
        "new_sentence = [\"I\", \"enjoy\", \"working\", \"with\", \"natural\", \"language\", \"models\", \".\"]"
      ],
      "metadata": {
        "id": "2FswCtF2FNYM"
      },
      "execution_count": 23,
      "outputs": []
    },
    {
      "cell_type": "code",
      "source": [
        "predicted_tags = tagger.tag(new_sentence)\n",
        "print(predicted_tags)"
      ],
      "metadata": {
        "colab": {
          "base_uri": "https://localhost:8080/"
        },
        "id": "bSZdvgqbFNVk",
        "outputId": "d1bcdf73-fc04-4bf5-c7b6-1c05897de715"
      },
      "execution_count": 24,
      "outputs": [
        {
          "output_type": "stream",
          "name": "stdout",
          "text": [
            "[('I', 'NN'), ('enjoy', 'VBP'), ('working', 'NN'), ('with', 'IN'), ('natural', 'NN'), ('language', 'NN'), ('models', 'NN'), ('.', '.')]\n"
          ]
        }
      ]
    },
    {
      "cell_type": "markdown",
      "source": [
        "# **END**"
      ],
      "metadata": {
        "id": "dbuJt3obFTPL"
      }
    },
    {
      "cell_type": "code",
      "source": [],
      "metadata": {
        "id": "-9kIjSFNFV6m"
      },
      "execution_count": null,
      "outputs": []
    }
  ]
}